{
 "cells": [
  {
   "cell_type": "markdown",
   "metadata": {},
   "source": [
    "# task 1 "
   ]
  },
  {
   "cell_type": "code",
   "execution_count": 1,
   "metadata": {},
   "outputs": [
    {
     "name": "stdout",
     "output_type": "stream",
     "text": [
      "enter first number 2\n",
      "choose operation - + * / ^ \n",
      "enter the operation+\n",
      "enter second number2\n",
      "4\n"
     ]
    }
   ],
   "source": [
    "number1 = int (input (\"enter first number \"));\n",
    "signs = print (\"choose operation - + * / ^ \");\n",
    "operation = input(\"enter the operation\") ;\n",
    "number2 = int (input (\"enter second number\"));\n",
    "if operation == \"+\":\n",
    "    print (number1 + number2);\n",
    "elif operation == \"-\":\n",
    "    print (number1 - number2);\n",
    "elif operation == \"/\":\n",
    "    print (number1 / number2);\n",
    "elif operation == \"*\":\n",
    "    print (number1 * number2);\n",
    "elif operation == \"^\":\n",
    "    print (number1 ** number2);\n",
    "else: \n",
    "    print (\"you have entered something wrong \");"
   ]
  },
  {
   "cell_type": "markdown",
   "metadata": {},
   "source": [
    "# task 2 "
   ]
  },
  {
   "cell_type": "code",
   "execution_count": 2,
   "metadata": {},
   "outputs": [
    {
     "name": "stdout",
     "output_type": "stream",
     "text": [
      "2\n",
      "4\n",
      "10\n"
     ]
    }
   ],
   "source": [
    "list1 = [2 , 4 , \" hussain\", 10, \"saqib\" ];\n",
    "for x in list1:\n",
    "    if type(x) == int:\n",
    "        print(x);"
   ]
  },
  {
   "cell_type": "markdown",
   "metadata": {},
   "source": [
    "# task 3 "
   ]
  },
  {
   "cell_type": "code",
   "execution_count": 3,
   "metadata": {},
   "outputs": [
    {
     "name": "stdout",
     "output_type": "stream",
     "text": [
      "{1: 'saqib', 2: 'hussain', 3: 'Tunio'}\n"
     ]
    }
   ],
   "source": [
    "dictionary = {1:\"saqib\", 2:\"hussain\"};\n",
    "dictionary[3]=\"Tunio\";\n",
    "print (dictionary);"
   ]
  },
  {
   "cell_type": "markdown",
   "metadata": {},
   "source": [
    "# task 4 "
   ]
  },
  {
   "cell_type": "code",
   "execution_count": 4,
   "metadata": {},
   "outputs": [
    {
     "name": "stdout",
     "output_type": "stream",
     "text": [
      "49\n"
     ]
    }
   ],
   "source": [
    "dic1 = {\"A\": 2 , \"b\":\"saqib\" , \"c\" : 4, \"d\": 43 };\n",
    "answer = 0;  \n",
    "for j in dic1.values():\n",
    "    if type(j) == int:\n",
    "        answer += j;\n",
    "print ( answer)\n",
    "    "
   ]
  },
  {
   "cell_type": "markdown",
   "metadata": {},
   "source": [
    "# task 5 "
   ]
  },
  {
   "cell_type": "code",
   "execution_count": 5,
   "metadata": {},
   "outputs": [
    {
     "name": "stdout",
     "output_type": "stream",
     "text": [
      "1 1 1 2 "
     ]
    }
   ],
   "source": [
    "l =[1,1,1,2,3,5,1,2,4]\n",
    "l1 = []\n",
    "for i in l:\n",
    "    if i not in l1:\n",
    "        l1.append(i)\n",
    "    else:\n",
    "        print (i , end=\" \")"
   ]
  },
  {
   "cell_type": "markdown",
   "metadata": {},
   "source": [
    "# task 6 "
   ]
  },
  {
   "cell_type": "code",
   "execution_count": 6,
   "metadata": {},
   "outputs": [
    {
     "name": "stdout",
     "output_type": "stream",
     "text": [
      "the key is already present\n"
     ]
    }
   ],
   "source": [
    "d = {\"a\": 2 , \"b\":\"saqib\" , \"c\" : 4, \"d\": 43, };\n",
    "check_key = \"a\";\n",
    "if check_key in d:\n",
    "    print (\"the key is already present\")\n",
    "else:\n",
    "    print (\" the key is not present \")"
   ]
  },
  {
   "cell_type": "code",
   "execution_count": null,
   "metadata": {},
   "outputs": [],
   "source": []
  }
 ],
 "metadata": {
  "kernelspec": {
   "display_name": "Python 3",
   "language": "python",
   "name": "python3"
  },
  "language_info": {
   "codemirror_mode": {
    "name": "ipython",
    "version": 3
   },
   "file_extension": ".py",
   "mimetype": "text/x-python",
   "name": "python",
   "nbconvert_exporter": "python",
   "pygments_lexer": "ipython3",
   "version": "3.7.6"
  }
 },
 "nbformat": 4,
 "nbformat_minor": 4
}
