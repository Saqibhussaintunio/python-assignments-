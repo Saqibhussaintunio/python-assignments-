{
 "cells": [
  {
   "cell_type": "markdown",
   "metadata": {},
   "source": [
    "# Data Science Assignment 1 "
   ]
  },
  {
   "cell_type": "code",
   "execution_count": 2,
   "metadata": {},
   "outputs": [
    {
     "name": "stdout",
     "output_type": "stream",
     "text": [
      "Twinkle Twinkle, little star,\n",
      " \t How i wonder wat you are ! \n",
      "\t\t Up above the world so high \n",
      "\t\t like a diamond in te sky\n",
      "  Twinkle Twinkle, little star, \n",
      " \t How i wonder what you are\n"
     ]
    }
   ],
   "source": [
    "'''Q1 : Write a Python program to print the following string in a specific format (see the \n",
    "output). \n",
    "Twinkle, twinkle, little star, \n",
    " \n",
    "How I wonder what you are! \n",
    " \n",
    "Up above the world so high, \n",
    "Like a diamond in the sky. \n",
    " \n",
    "Twinkle, twinkle, little star  \n",
    "How I wonder what you are '''\n",
    "print (\"Twinkle Twinkle, little star,\\n \\t How i wonder wat you are ! \\n\\t\\t Up above the world so high \\n\\t\\t like a diamond in te sky\\n  Twinkle Twinkle, little star, \\n \\t How i wonder what you are\")"
   ]
  },
  {
   "cell_type": "code",
   "execution_count": 3,
   "metadata": {},
   "outputs": [
    {
     "name": "stdout",
     "output_type": "stream",
     "text": [
      "3.7.6\n"
     ]
    }
   ],
   "source": [
    "# Q2 :Write a Python program to get the Python version you are using\n",
    "from platform import python_version\n",
    "print (python_version());"
   ]
  },
  {
   "cell_type": "code",
   "execution_count": 4,
   "metadata": {},
   "outputs": [
    {
     "name": "stdout",
     "output_type": "stream",
     "text": [
      "current date and time is :\n",
      "21-12-31 12:17:26\n"
     ]
    }
   ],
   "source": [
    "# Q3 : Write a Python program to display the current date and time. \n",
    "import datetime \n",
    "now=datetime.datetime.now()\n",
    "print(\"current date and time is :\")\n",
    "print (now.strftime(\"%y-%m-%d %H:%M:%S\"))"
   ]
  },
  {
   "cell_type": "code",
   "execution_count": 5,
   "metadata": {},
   "outputs": [
    {
     "name": "stdout",
     "output_type": "stream",
     "text": [
      "enter the radius value 2\n",
      "12.56\n"
     ]
    }
   ],
   "source": [
    "'''Q4 : Write a Python program which accepts the radius of a circle from the user and compute \n",
    "the area.'''\n",
    "radius = int(input(\"enter the radius value \"));\n",
    "area = 3.14 * radius**2;\n",
    "print (area);"
   ]
  },
  {
   "cell_type": "code",
   "execution_count": 6,
   "metadata": {},
   "outputs": [
    {
     "name": "stdout",
     "output_type": "stream",
     "text": [
      "enter your first nameahmed Ali\n",
      "enter your last name solangi\n",
      " i g n a l o s i l A   d e m h a\n"
     ]
    }
   ],
   "source": [
    "'''Q5 :Write a Python program which accepts the user's first and last name and print them in \n",
    "reverse order with a space between them. '''\n",
    "first_name= input(\"enter your first name\");\n",
    "last_name=input(\"enter your last name \");\n",
    "full_name = first_name + last_name;\n",
    "reverse_name= \"\";\n",
    "for i in range(len(full_name)-1,-1,-1):\n",
    "    reverse_name= reverse_name + \" \" + full_name[i];\n",
    "print (reverse_name);"
   ]
  },
  {
   "cell_type": "code",
   "execution_count": 7,
   "metadata": {},
   "outputs": [
    {
     "name": "stdout",
     "output_type": "stream",
     "text": [
      "enter first number2\n",
      "enter second number4\n",
      "6\n"
     ]
    }
   ],
   "source": [
    "# Q6:Write a python program which takes two inputs from user and print them addition\n",
    "num1= int(input(\"enter first number\"));\n",
    "num2= int(input(\"enter second number\"));\n",
    "summition = num1 + num2 ; \n",
    "print ( summition)"
   ]
  },
  {
   "cell_type": "code",
   "execution_count": null,
   "metadata": {},
   "outputs": [],
   "source": []
  }
 ],
 "metadata": {
  "kernelspec": {
   "display_name": "Python 3",
   "language": "python",
   "name": "python3"
  },
  "language_info": {
   "codemirror_mode": {
    "name": "ipython",
    "version": 3
   },
   "file_extension": ".py",
   "mimetype": "text/x-python",
   "name": "python",
   "nbconvert_exporter": "python",
   "pygments_lexer": "ipython3",
   "version": "3.7.6"
  }
 },
 "nbformat": 4,
 "nbformat_minor": 4
}
